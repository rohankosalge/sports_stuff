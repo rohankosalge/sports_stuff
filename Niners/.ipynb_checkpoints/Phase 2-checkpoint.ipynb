{
 "cells": [
  {
   "cell_type": "code",
   "execution_count": 3,
   "id": "f895c868-dd3a-4271-9ad3-d0feb55b6c74",
   "metadata": {},
   "outputs": [],
   "source": [
    "import warnings\n",
    "warnings.filterwarnings('ignore')"
   ]
  },
  {
   "cell_type": "code",
   "execution_count": 12,
   "id": "7b9dda8c-ffba-4b2a-9cc0-4a18573c943b",
   "metadata": {},
   "outputs": [],
   "source": [
    "import pandas as pd\n",
    "import matplotlib.pyplot as plt\n",
    "import matplotlib"
   ]
  },
  {
   "cell_type": "code",
   "execution_count": 18,
   "id": "359bfd36-2b26-4557-bb09-7f4235df9459",
   "metadata": {},
   "outputs": [
    {
     "data": {
      "text/html": [
       "<div>\n",
       "<style scoped>\n",
       "    .dataframe tbody tr th:only-of-type {\n",
       "        vertical-align: middle;\n",
       "    }\n",
       "\n",
       "    .dataframe tbody tr th {\n",
       "        vertical-align: top;\n",
       "    }\n",
       "\n",
       "    .dataframe thead th {\n",
       "        text-align: right;\n",
       "    }\n",
       "</style>\n",
       "<table border=\"1\" class=\"dataframe\">\n",
       "  <thead>\n",
       "    <tr style=\"text-align: right;\">\n",
       "      <th></th>\n",
       "      <th>CoachID</th>\n",
       "      <th>Name</th>\n",
       "      <th>NFL Coach Experience (thru 2023)</th>\n",
       "      <th>College/Other Exp (thru 2023)</th>\n",
       "      <th>Date of Birth</th>\n",
       "      <th>NFL Playing Exp</th>\n",
       "      <th>Highest Pos NFL (1=HC, 2=Coord, 3=ST, Pos or Lower)</th>\n",
       "      <th>Highest Pos College / other Pro</th>\n",
       "      <th># seasons as NFL Coordinator</th>\n",
       "      <th>Off/Def side of ball</th>\n",
       "      <th>1st Season as NFL HC</th>\n",
       "    </tr>\n",
       "  </thead>\n",
       "  <tbody>\n",
       "    <tr>\n",
       "      <th>0</th>\n",
       "      <td>174258.0</td>\n",
       "      <td>Brown, Gary</td>\n",
       "      <td>11.0</td>\n",
       "      <td>6.0</td>\n",
       "      <td>7/1/1969 0:00:00</td>\n",
       "      <td>8.0</td>\n",
       "      <td>3.0</td>\n",
       "      <td>RB</td>\n",
       "      <td>0.0</td>\n",
       "      <td>Off</td>\n",
       "      <td>NaN</td>\n",
       "    </tr>\n",
       "    <tr>\n",
       "      <th>1</th>\n",
       "      <td>660434.0</td>\n",
       "      <td>Levine, Tony</td>\n",
       "      <td>2.0</td>\n",
       "      <td>18.0</td>\n",
       "      <td>10/28/1972 0:00:00</td>\n",
       "      <td>0.0</td>\n",
       "      <td>3.0</td>\n",
       "      <td>OC</td>\n",
       "      <td>0.0</td>\n",
       "      <td>ST</td>\n",
       "      <td>NaN</td>\n",
       "    </tr>\n",
       "    <tr>\n",
       "      <th>2</th>\n",
       "      <td>580829.0</td>\n",
       "      <td>Scherer, Rip</td>\n",
       "      <td>9.0</td>\n",
       "      <td>30.0</td>\n",
       "      <td>8/3/1952 0:00:00</td>\n",
       "      <td>0.0</td>\n",
       "      <td>3.0</td>\n",
       "      <td>HC</td>\n",
       "      <td>0.0</td>\n",
       "      <td>Off</td>\n",
       "      <td>NaN</td>\n",
       "    </tr>\n",
       "    <tr>\n",
       "      <th>3</th>\n",
       "      <td>154631.0</td>\n",
       "      <td>Drevno, Tim</td>\n",
       "      <td>3.0</td>\n",
       "      <td>29.0</td>\n",
       "      <td>3/20/1969 0:00:00</td>\n",
       "      <td>0.0</td>\n",
       "      <td>3.0</td>\n",
       "      <td>QC</td>\n",
       "      <td>0.0</td>\n",
       "      <td>Off</td>\n",
       "      <td>NaN</td>\n",
       "    </tr>\n",
       "    <tr>\n",
       "      <th>4</th>\n",
       "      <td>926678.0</td>\n",
       "      <td>Senger, Connor</td>\n",
       "      <td>2.0</td>\n",
       "      <td>5.0</td>\n",
       "      <td>NaN</td>\n",
       "      <td>0.0</td>\n",
       "      <td>3.0</td>\n",
       "      <td>OC</td>\n",
       "      <td>0.0</td>\n",
       "      <td>Off</td>\n",
       "      <td>NaN</td>\n",
       "    </tr>\n",
       "  </tbody>\n",
       "</table>\n",
       "</div>"
      ],
      "text/plain": [
       "    CoachID            Name  NFL Coach Experience (thru 2023)  \\\n",
       "0  174258.0     Brown, Gary                              11.0   \n",
       "1  660434.0    Levine, Tony                               2.0   \n",
       "2  580829.0    Scherer, Rip                               9.0   \n",
       "3  154631.0     Drevno, Tim                               3.0   \n",
       "4  926678.0  Senger, Connor                               2.0   \n",
       "\n",
       "   College/Other Exp (thru 2023)       Date of Birth  NFL Playing Exp  \\\n",
       "0                            6.0    7/1/1969 0:00:00              8.0   \n",
       "1                           18.0  10/28/1972 0:00:00              0.0   \n",
       "2                           30.0    8/3/1952 0:00:00              0.0   \n",
       "3                           29.0   3/20/1969 0:00:00              0.0   \n",
       "4                            5.0                 NaN              0.0   \n",
       "\n",
       "   Highest Pos NFL (1=HC, 2=Coord, 3=ST, Pos or Lower)  \\\n",
       "0                                                3.0     \n",
       "1                                                3.0     \n",
       "2                                                3.0     \n",
       "3                                                3.0     \n",
       "4                                                3.0     \n",
       "\n",
       "  Highest Pos College / other Pro  # seasons as NFL Coordinator  \\\n",
       "0                              RB                           0.0   \n",
       "1                              OC                           0.0   \n",
       "2                              HC                           0.0   \n",
       "3                              QC                           0.0   \n",
       "4                              OC                           0.0   \n",
       "\n",
       "  Off/Def side of ball  1st Season as NFL HC  \n",
       "0                  Off                   NaN  \n",
       "1                   ST                   NaN  \n",
       "2                  Off                   NaN  \n",
       "3                  Off                   NaN  \n",
       "4                  Off                   NaN  "
      ]
     },
     "execution_count": 18,
     "metadata": {},
     "output_type": "execute_result"
    }
   ],
   "source": [
    "data = pd.read_csv('phase2data.csv')\n",
    "data.head()"
   ]
  },
  {
   "cell_type": "markdown",
   "id": "d25eade3-84d9-4bbd-acc6-e2e5201a5ded",
   "metadata": {},
   "source": [
    "### Compare NFL Coach Experience with Highest Pos NFL"
   ]
  },
  {
   "cell_type": "code",
   "execution_count": 19,
   "id": "c2f8b8b5-4fd8-40dc-82b1-84657ffa6326",
   "metadata": {},
   "outputs": [],
   "source": [
    "plt.style.use('dark_background')\n",
    "matplotlib.rcParams['font.sans-serif'] = \"Arial\"\n",
    "matplotlib.rcParams['font.family'] = \"sans-serif\""
   ]
  },
  {
   "cell_type": "code",
   "execution_count": 32,
   "id": "61407b2a-1c6a-4379-8150-305e26f1df6d",
   "metadata": {},
   "outputs": [],
   "source": [
    "def graph_exp_vs_pos(data, title):\n",
    "    graph_data = pd.DataFrame({\"Tier 1\": data[data['Highest Pos NFL (1=HC, 2=Coord, 3=ST, Pos or Lower)'] == 1.0]['NFL Coach Experience (thru 2023)'], \n",
    "                               \"Tier 2\": data[data['Highest Pos NFL (1=HC, 2=Coord, 3=ST, Pos or Lower)'] == 2.0]['NFL Coach Experience (thru 2023)'],\n",
    "                               \"Tier 3\": data[data['Highest Pos NFL (1=HC, 2=Coord, 3=ST, Pos or Lower)'] == 3.0]['NFL Coach Experience (thru 2023)']})\n",
    "\n",
    "    ax = graph_data[['Tier 1', 'Tier 2', 'Tier 3']].plot(kind='box', title='boxplot')\n",
    "    ax.set_title(title)"
   ]
  },
  {
   "cell_type": "code",
   "execution_count": 39,
   "id": "14bad40a-0cea-48bb-a956-bca76e228d84",
   "metadata": {},
   "outputs": [
    {
     "data": {
      "image/png": "[encoded data removed]",
      "text/plain": [
       "<Figure size 640x480 with 1 Axes>"
      ]
     },
     "metadata": {},
     "output_type": "display_data"
    }
   ],
   "source": [
    "graph_exp_vs_pos(data, title='Coaching Experience v. Highest Pos')"
   ]
  },
  {
   "cell_type": "code",
   "execution_count": null,
   "id": "442ba70f-a28f-4fca-b1e9-a2283c3da428",
   "metadata": {},
   "outputs": [],
   "source": []
  }
 ],
 "metadata": {
  "kernelspec": {
   "display_name": "Python 3 (ipykernel)",
   "language": "python",
   "name": "python3"
  },
  "language_info": {
   "codemirror_mode": {
    "name": "ipython",
    "version": 3
   },
   "file_extension": ".py",
   "mimetype": "text/x-python",
   "name": "python",
   "nbconvert_exporter": "python",
   "pygments_lexer": "ipython3",
   "version": "3.9.12"
  }
 },
 "nbformat": 4,
 "nbformat_minor": 5
}
