{
 "cells": [
  {
   "cell_type": "code",
   "execution_count": 22,
   "id": "14d7b094-1086-4446-b706-5922fde5d0ae",
   "metadata": {},
   "outputs": [],
   "source": [
    "from urllib.request import urlopen\n",
    "from bs4 import BeautifulSoup\n",
    "import pandas as pd\n",
    "from http.client import IncompleteRead"
   ]
  },
  {
   "cell_type": "code",
   "execution_count": 23,
   "id": "4cfbfe74-de2d-4aa7-8a9a-297a736b16ac",
   "metadata": {},
   "outputs": [],
   "source": [
    "def get_data(url, with_header = False):\n",
    "    # get data, given the url and using the html web scraping module\n",
    "    try:\n",
    "        page = urlopen(url).read()\n",
    "    except IncompleteRead as e:\n",
    "        page = e.partial\n",
    "        \n",
    "    soup = BeautifulSoup(page, features='html.parser')\n",
    "    rows = soup.findAll('tr')[:]\n",
    "\n",
    "    if with_header:\n",
    "        rows_data = [[td.getText() for td in row.findAll('th')] + [td.getText() for td in row.findAll('td')]  for row in rows]\n",
    "    else:\n",
    "        rows_data = [[td.getText() for td in row.findAll('td')]  for row in rows]\n",
    "    \n",
    "    return rows_data"
   ]
  },
  {
   "cell_type": "code",
   "execution_count": null,
   "id": "621c8b09-1154-400e-a5e6-97b60023f974",
   "metadata": {},
   "outputs": [],
   "source": [
    "receivers = []\n",
    "for year in range(2010, 2024):\n",
    "    receivers += get_data('https://www.pro-football-reference.com/draft/'+str(year)+'-combine.htm', True)\n",
    "receivers = [receivers[0]]+[receiver for receiver in receivers[1:] if receiver != ['Player', 'Pos', 'School', 'College','Ht', 'Wt', '40yd', 'Vertical', 'Bench', 'Broad Jump', '3Cone', 'Shuttle', 'Drafted (tm/rnd/yr)']]\n",
    "receivers_df = pd.DataFrame(receivers)\n",
    "receivers_df.columns = receivers_df.iloc[0]\n",
    "receivers_df = receivers_df[1:]\n",
    "receivers_df.to_csv('/Users/rohankosalge/Desktop/Coding/NFL-projects/nfl_combine_since_2010.csv')\n",
    "print('done')"
   ]
  },
  {
   "cell_type": "code",
   "execution_count": null,
   "id": "5c8346f6-572d-44a7-8969-9de52adf4f78",
   "metadata": {},
   "outputs": [],
   "source": []
  }
 ],
 "metadata": {
  "kernelspec": {
   "display_name": "Python 3 (ipykernel)",
   "language": "python",
   "name": "python3"
  },
  "language_info": {
   "codemirror_mode": {
    "name": "ipython",
    "version": 3
   },
   "file_extension": ".py",
   "mimetype": "text/x-python",
   "name": "python",
   "nbconvert_exporter": "python",
   "pygments_lexer": "ipython3",
   "version": "3.9.12"
  }
 },
 "nbformat": 4,
 "nbformat_minor": 5
}
