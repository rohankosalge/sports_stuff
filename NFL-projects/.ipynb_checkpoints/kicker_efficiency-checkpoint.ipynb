{
 "cells": [
  {
   "cell_type": "markdown",
   "id": "a39f6aa3-d3cf-41f8-b13d-2e5f968429fd",
   "metadata": {},
   "source": [
    "Measuring Average Points over Expected (APE) for Kickers."
   ]
  },
  {
   "cell_type": "code",
   "execution_count": 7,
   "id": "da81c821-51b6-4105-95e4-c521da7bfe88",
   "metadata": {},
   "outputs": [],
   "source": [
    "import nfl_data_py as nfl\n",
    "import numpy as np\n",
    "import pandas as pd\n",
    "from matplotlib import *"
   ]
  },
  {
   "cell_type": "code",
   "execution_count": 8,
   "id": "4afeaa00-be39-4322-87af-239607c694d6",
   "metadata": {},
   "outputs": [],
   "source": [
    "season_start = 2016\n",
    "season_end = 2021\n",
    "min_fga = (season_end+1-season_start)*20"
   ]
  },
  {
   "cell_type": "markdown",
   "id": "f2bbc2f0-d71b-4742-90b9-6be32a3d359e",
   "metadata": {},
   "source": [
    "Import and filter PBP data to get kicking data."
   ]
  },
  {
   "cell_type": "code",
   "execution_count": null,
   "id": "14250cda-1d5c-4c48-9ffc-fa435469833c",
   "metadata": {},
   "outputs": [],
   "source": [
    "season_data = nfl.import_pbp_data(list(range(season_start, season_end+1)), downcast=True, cache=False, alt_path=None)\n",
    "season_data = season_data.drop(season_data[season_data['season_type'] == 'POST'].index) # Regular season only.\n",
    "fg_data = season_data[['kicker_player_name', 'kick_distance', 'field_goal_result', 'fg_prob']] # Limit to relevant parameters.\n",
    "fg_data = fg_data.dropna(subset=['field_goal_result'], inplace=False) # Remove non-FG plays.\n",
    "fg_data = fg_data.drop(fg_data[fg_data['field_goal_result'] == 'blocked'].index) # Blocked kicks should not count."
   ]
  },
  {
   "cell_type": "markdown",
   "id": "961b7d7a-8914-4bfb-a1cb-29745f0419a7",
   "metadata": {},
   "source": [
    "Calculate APE using nflfastR's 'fg_prob' variable. It accounts for field conditions, weather, and kick distance."
   ]
  },
  {
   "cell_type": "code",
   "execution_count": null,
   "id": "1e4ef779-a87c-4b52-ac47-8a489d0ff099",
   "metadata": {},
   "outputs": [],
   "source": [
    "fg_expected_points = fg_data.groupby('kicker_player_name')['fg_prob'].sum()*3\n",
    "fg_actual_points = fg_data[fg_data['field_goal_result'] == 'made']['kicker_player_name'].value_counts()*3\n",
    "fg_apes = (fg_actual_points-fg_expected_points)/fg_data['kicker_player_name'].value_counts()\n",
    "fg_apes = fg_apes.sort_values(ascending=False)\n",
    "fg_counts = fg_data['kicker_player_name'].value_counts()\n",
    "fg_pcts = (fg_actual_points/3)/fg_counts"
   ]
  },
  {
   "cell_type": "markdown",
   "id": "d322dcbf-b1eb-4cfc-b00b-c942475006a8",
   "metadata": {},
   "source": [
    "Same process for XPs. APE can be more understandable than XP% - penalties causing more yardage, weather conditions, etc."
   ]
  },
  {
   "cell_type": "code",
   "execution_count": null,
   "id": "c1dedd67-b738-4ae6-86aa-2015fad19c95",
   "metadata": {},
   "outputs": [],
   "source": [
    "xp_data = season_data[['kicker_player_name', 'kick_distance', 'extra_point_result', 'extra_point_prob']]\n",
    "xp_data = xp_data.dropna(subset=['extra_point_result'], inplace=False)"
   ]
  },
  {
   "cell_type": "code",
   "execution_count": null,
   "id": "d42875b9-f874-4e43-81df-4bf55770ee4d",
   "metadata": {},
   "outputs": [],
   "source": [
    "xp_expected_points = xp_data.groupby('kicker_player_name')['extra_point_prob'].sum()\n",
    "xp_actual_points = xp_data[xp_data['extra_point_result'] == 'good']['kicker_player_name'].value_counts()\n",
    "xp_apes = (xp_actual_points-xp_expected_points)/xp_data['kicker_player_name'].value_counts()\n",
    "xp_apes = xp_apes.sort_values(ascending=False)\n",
    "xp_counts = xp_data['kicker_player_name'].value_counts().astype(int)\n",
    "xp_pcts = xp_actual_points/xp_counts"
   ]
  },
  {
   "cell_type": "code",
   "execution_count": null,
   "id": "11d6b218-ac76-4075-8ccd-d4b3a09e3755",
   "metadata": {},
   "outputs": [],
   "source": [
    "kicker_efficiency = pd.concat([fg_counts, fg_pcts, fg_apes, xp_counts, xp_pcts, xp_apes], axis=1)\n",
    "kicker_efficiency.columns = ['FGA', 'FG%', 'FG APE', 'XPA', 'XP%', 'XP APE']\n",
    "kicker_efficiency = kicker_efficiency[kicker_efficiency['FGA']>=min_fga].sort_values(by=['FG APE'], ascending=False)\n",
    "kicker_efficiency"
   ]
  }
 ],
 "metadata": {
  "kernelspec": {
   "display_name": "Python 3 (ipykernel)",
   "language": "python",
   "name": "python3"
  },
  "language_info": {
   "codemirror_mode": {
    "name": "ipython",
    "version": 3
   },
   "file_extension": ".py",
   "mimetype": "text/x-python",
   "name": "python",
   "nbconvert_exporter": "python",
   "pygments_lexer": "ipython3",
   "version": "3.9.12"
  }
 },
 "nbformat": 4,
 "nbformat_minor": 5
}
