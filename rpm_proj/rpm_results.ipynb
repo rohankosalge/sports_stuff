{
 "cells": [
  {
   "cell_type": "markdown",
   "id": "970b502e-fae5-4fc8-aa46-ee6dc99f281f",
   "metadata": {},
   "source": [
    "Visuals of RPM Project Results"
   ]
  },
  {
   "cell_type": "code",
   "execution_count": 1,
   "id": "a396cbd1-309a-4a04-80fd-9c136e0c8bcf",
   "metadata": {},
   "outputs": [],
   "source": [
    "import pandas as pd\n",
    "import numpy as np\n",
    "import matplotlib.pyplot as plt"
   ]
  },
  {
   "cell_type": "code",
   "execution_count": null,
   "id": "a23f5539-dc53-4e73-86d6-7451b424a920",
   "metadata": {},
   "outputs": [],
   "source": []
  }
 ],
 "metadata": {
  "kernelspec": {
   "display_name": "Python 3 (ipykernel)",
   "language": "python",
   "name": "python3"
  },
  "language_info": {
   "codemirror_mode": {
    "name": "ipython",
    "version": 3
   },
   "file_extension": ".py",
   "mimetype": "text/x-python",
   "name": "python",
   "nbconvert_exporter": "python",
   "pygments_lexer": "ipython3",
   "version": "3.9.12"
  }
 },
 "nbformat": 4,
 "nbformat_minor": 5
}
