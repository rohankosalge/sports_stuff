{
 "cells": [
  {
   "cell_type": "markdown",
   "id": "c846df7d-4d6d-40a5-b0d6-50e841dc0620",
   "metadata": {},
   "source": [
    "1. Retrieving and Parsing Data"
   ]
  },
  {
   "cell_type": "code",
   "execution_count": 34,
   "id": "b5bbc459-7825-49df-89dc-98aa49d66d1f",
   "metadata": {},
   "outputs": [],
   "source": [
    "import pandas as pd\n",
    "from sklearn.preprocessing import StandardScaler"
   ]
  },
  {
   "cell_type": "markdown",
   "id": "87bdcadd-ca91-42eb-85d2-6d1dffc99ae6",
   "metadata": {},
   "source": [
    "1.1. Filtering\n",
    "- Removing non-qualifying players (not enough games played, below 2.5 PA/game)\n",
    "- Aggregating player stats on 2+ teams\n",
    "- Quantifying Pos Summary to generalized position"
   ]
  },
  {
   "cell_type": "code",
   "execution_count": 35,
   "id": "0618711e-5e01-4239-babf-6d42e84044ee",
   "metadata": {},
   "outputs": [],
   "source": [
    "weights = pd.read_csv('/Users/rohankosalge/Desktop/Coding/MLB-projects/woba_weights.csv')\n",
    "weights.index = weights['Season']\n",
    "weights = weights.drop(columns=['Season'])\n",
    "nl, al = pd.DataFrame(columns=['Name', 'Tm', 'Lg', 'PA', 'H', '2B', 'HR', 'RBI', 'BB', 'BA', 'OBP', 'OPS+', 'TB', 'IBB', 'Pos', 'wOBA', 'wRAA', 'BABIP', 'SS']), pd.DataFrame(columns=['Name', 'Tm', 'Lg', 'PA', 'H', '2B', 'HR', 'RBI', 'BB', 'BA', 'OBP', 'OPS+', 'TB', 'IBB', 'Pos', 'wOBA', 'wRAA', 'BABIP', 'SS'])\n",
    "ignore_years = [1981, 1994, 1995, 2020] # shortened years due to lockouts and COVID-19\n",
    "for year in range(1980, 2023):\n",
    "    if year in ignore_years:\n",
    "        continue\n",
    "    data = pd.read_csv('/Users/rohankosalge/Desktop/Coding/MLB-projects/batting_data/batting_'+str(year)+'.csv')\n",
    "    data = data.drop(data[data.Rk == 'Rk'].index).drop(data.tail(1).index)\n",
    "    aggregation_functions = {'G':'first', 'Tm':'last', 'Lg':'last', 'PA':'first', 'AB':'first', 'R':'first', 'H':'first', '2B':'first', '3B':'first', 'HR':'first', 'RBI':'first', 'SB':'first', 'CS':'first', 'BB':'first', 'SO':'first', 'BA':'first', 'OBP':'first', 'SLG':'first', 'OPS':'first', 'OPS+':'first', 'TB':'first', 'GDP':'first', 'HBP':'first', 'SH':'first', 'SF':'first', 'IBB':'first', 'PosSummary':'first'}\n",
    "    data = data.groupby('Name', as_index=False).agg(aggregation_functions)\n",
    "    data['G'], data['PA'] = data['G'].astype(int), data['PA'].astype(int)\n",
    "    data = data.drop(data[data.G < 81].index)\n",
    "    data = data.drop(data[(data.G*2.5) > data.PA].index)\n",
    "    data['Name'] = data['Name'].apply(lambda x : x.replace('*','').replace('#',''))\n",
    "    summary_to_pos = {'1':'P', '2':'C', '3':'1B', '4':'2B', '5':'3B', '6':'SS', '7':'OF', '8':'OF', '9':'OF', 'D':'DH', 'H':'PH'}\n",
    "    data['Pos'] = data['PosSummary'].apply(lambda x: summary_to_pos[x.replace('*','')[0]])\n",
    "    data = data.drop(data[data.Pos == 'DH'].index).drop(data[data.Pos == 'P'].index).drop(data[data.Pos == 'PH'].index).drop(['PosSummary'], axis=1)\n",
    "\n",
    "    firstb = data['TB'].astype(int) - (4*data['HR'].astype(int) + 3*data['3B'].astype(int) + 2*data['2B'].astype(int))\n",
    "    data['wOBA'] = ((weights.loc[int(year)]['wBB']*(data['BB'].astype(int)-data['IBB'].astype(int))) + (weights.loc[int(year)]['wHBP']*data['HBP'].astype(int)) + (weights.loc[int(year)]['w1B']*firstb) + (weights.loc[int(year)]['w2B']*data['2B'].astype(int)) + (weights.loc[int(year)]['w3B']*data['3B'].astype(int)) + (weights.loc[int(year)]['wHR']*data['HR'].astype(int)))/(data['AB'].astype(int) + data['BB'].astype(int) - data['IBB'].astype(int) + data['SF'].astype(int) + data['HBP'].astype(int))       \n",
    "    data['wRAA'] = ((data['wOBA'].astype(float) - weights.loc[int(year)]['wOBA']) / weights.loc[int(year)]['wOBAScale']) * data['PA'].astype(int)\n",
    "    data['BABIP'] = (data['H'].astype(int) - data['HR'].astype(int))/(data['AB'].astype(int) - data['HR'].astype(int) - data['SO'].astype(int) + data['SF'].astype(int))\n",
    "    data.round({'wOBA': 3, 'wRAA': 1, 'BABIP': 3})\n",
    "\n",
    "    al_ss = pd.read_csv('/Users/rohankosalge/Desktop/Coding/MLB-projects/al_silver_sluggers.csv')\n",
    "    al_ss.index = al_ss['Year']\n",
    "    al_ss = al_ss.drop(columns=['Year'])\n",
    "    al_ss = al_ss.applymap(lambda x : x.replace('†', '').replace('*',''))\n",
    "\n",
    "    nl_ss = pd.read_csv('/Users/rohankosalge/Desktop/Coding/MLB-projects/nl_silver_sluggers.csv')\n",
    "    nl_ss.index = nl_ss['Year']\n",
    "    nl_ss = nl_ss.drop(columns=['Year'])\n",
    "    nl_ss = nl_ss.applymap(lambda x : x.replace('†', '').replace('*',''))\n",
    "\n",
    "    # Values least related to SS\n",
    "    least_corr = ['3B', 'SB', 'CS', 'SO', 'GDP', 'HBP', 'SH', 'SF']\n",
    "    # Values most inter-correlated\n",
    "    inter_corr = ['OPS', 'SLG', 'AB', 'G', 'R']\n",
    "\n",
    "    # Split into separate leagues and analyze data per.\n",
    "    season_nl, season_al = data[data['Lg'] == 'NL'].drop(columns=least_corr+inter_corr, axis=1), data[data['Lg'] == 'AL'].drop(columns=least_corr+inter_corr, axis=1)\n",
    "    season_nl['SS'], season_al['SS'] = 0, 0\n",
    "    for name in season_nl['Name']:\n",
    "        for ss in nl_ss.loc[int(year)]:\n",
    "            if name.replace('\\xa0', ' ') in ss:\n",
    "                season_nl.loc[season_nl.Name == name, 'SS'] = 1\n",
    "    for name in season_al['Name']:\n",
    "        for ss in al_ss.loc[int(year)]:\n",
    "            if name.replace('\\xa0', ' ') in ss:\n",
    "                season_al.loc[season_al.Name == name, 'SS'] = 1\n",
    "\n",
    "    # Normalize data.\n",
    "    scaler = StandardScaler()\n",
    "    columns_to_scale = season_nl.columns.tolist()\n",
    "    columns_to_scale.remove('Name')\n",
    "    columns_to_scale.remove('Tm')\n",
    "    columns_to_scale.remove('Lg')\n",
    "    columns_to_scale.remove('Pos')\n",
    "    columns_to_scale.remove('SS')\n",
    "    nl_data_to_scale, al_data_to_scale = season_nl[columns_to_scale], season_al[columns_to_scale]\n",
    "    nl_scaled_data, al_scaled_data = scaler.fit_transform(nl_data_to_scale), scaler.fit_transform(al_data_to_scale)\n",
    "    season_nl[columns_to_scale], season_al[columns_to_scale] = nl_scaled_data, al_scaled_data\n",
    "    season_nl['Year'], season_al['Year'] = int(year), int(year)\n",
    "    \n",
    "    nl = pd.concat([nl, season_nl], ignore_index=True)\n",
    "    al = pd.concat([al, season_al], ignore_index=True)\n",
    "\n",
    "al.insert(1, 'Year', al.pop('Year'))\n",
    "nl.insert(1, 'Year', nl.pop('Year'))\n",
    "al.insert(2, 'Pos', al.pop('Pos'))\n",
    "nl.insert(2, 'Pos', nl.pop('Pos'))\n",
    "al['Year'], nl['Year'] = al['Year'].astype(int), nl['Year'].astype(int)\n",
    "        "
   ]
  },
  {
   "cell_type": "markdown",
   "id": "6ee53a70-9eb8-46ca-a465-3aeb141f4791",
   "metadata": {},
   "source": [
    "1.2 Compiling"
   ]
  },
  {
   "cell_type": "code",
   "execution_count": 36,
   "id": "09e47675-9ccc-472c-a822-dcb7f37cebe8",
   "metadata": {},
   "outputs": [
    {
     "name": "stdout",
     "output_type": "stream",
     "text": [
      "done\n"
     ]
    }
   ],
   "source": [
    "al.to_csv('/Users/rohankosalge/Desktop/Coding/MLB-projects/al_data.csv')\n",
    "nl.to_csv('/Users/rohankosalge/Desktop/Coding/MLB-projects/nl_data.csv')\n",
    "print('done')"
   ]
  },
  {
   "cell_type": "code",
   "execution_count": null,
   "id": "4e89983f-de5d-4f29-a908-f3d93a69dc56",
   "metadata": {},
   "outputs": [],
   "source": []
  }
 ],
 "metadata": {
  "kernelspec": {
   "display_name": "Python 3 (ipykernel)",
   "language": "python",
   "name": "python3"
  },
  "language_info": {
   "codemirror_mode": {
    "name": "ipython",
    "version": 3
   },
   "file_extension": ".py",
   "mimetype": "text/x-python",
   "name": "python",
   "nbconvert_exporter": "python",
   "pygments_lexer": "ipython3",
   "version": "3.9.12"
  }
 },
 "nbformat": 4,
 "nbformat_minor": 5
}
