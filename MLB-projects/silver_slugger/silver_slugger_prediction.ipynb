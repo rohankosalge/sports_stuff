{
 "cells": [
  {
   "cell_type": "code",
   "execution_count": 176,
   "id": "d7d45d98-1e58-4098-b451-7cee11b8f4d4",
   "metadata": {},
   "outputs": [],
   "source": [
    "import pandas as pd\n",
    "from sklearn.linear_model import LogisticRegression\n",
    "from sklearn.tree import DecisionTreeClassifier\n",
    "from sklearn.ensemble import RandomForestClassifier\n",
    "import numpy as np\n",
    "from unidecode import unidecode"
   ]
  },
  {
   "cell_type": "code",
   "execution_count": 177,
   "id": "22898ef8-bda0-4e55-a0c8-bf5b547367d4",
   "metadata": {},
   "outputs": [],
   "source": [
    "al_data, nl_data = pd.read_csv('/Users/rohankosalge/Desktop/Coding/MLB-projects/al_data.csv', index_col=0), pd.read_csv('/Users/rohankosalge/Desktop/Coding/MLB-projects/nl_data.csv', index_col=0)"
   ]
  },
  {
   "cell_type": "code",
   "execution_count": 178,
   "id": "d51b575f-8d9e-4f9a-97d4-646f7f486da1",
   "metadata": {},
   "outputs": [],
   "source": [
    "start_year = 1980"
   ]
  },
  {
   "cell_type": "code",
   "execution_count": 179,
   "id": "22a4ce29-84f7-4055-a142-64b03561aa2b",
   "metadata": {},
   "outputs": [],
   "source": [
    "test_year = 2016"
   ]
  },
  {
   "cell_type": "code",
   "execution_count": 180,
   "id": "8bebf42a-50fc-4d71-b811-2d06a5a0b30d",
   "metadata": {},
   "outputs": [],
   "source": [
    "al_train, nl_train = al_data[al_data['Year'] < test_year], nl_data[nl_data['Year'] < test_year]\n",
    "al_test, nl_test = al_data[al_data['Year'] == test_year], nl_data[nl_data['Year'] == test_year]"
   ]
  },
  {
   "cell_type": "code",
   "execution_count": 181,
   "id": "94c00c1c-b306-4e41-9724-7b25fe1952ee",
   "metadata": {},
   "outputs": [
    {
     "name": "stdout",
     "output_type": "stream",
     "text": [
      "['Miguel Cabrera', 'José Altuve', 'Josh Donaldson', 'Xander Bogaerts', 'Mookie Betts', 'Mike Trout', 'Mark Trumbo', 'Salvador Pérez']\n",
      "['Miguel Cabrera', 'Jose Altuve', 'Josh Donaldson', 'Xander Bogaerts', 'Mark Trumbo', 'Mike Trout', 'Mookie Betts', 'Jonathan Lucroy']\n",
      "87.5% accuracy\n"
     ]
    }
   ],
   "source": [
    "\n",
    "positions = ['1B', '2B', '3B', 'SS', 'OF', 'C']\n",
    "guesses = []\n",
    "\n",
    "for pos in positions:\n",
    "    al_pos_train = al_train[al_train['Pos'] == pos]\n",
    "    al_pos_test = al_test[al_test['Pos'] == pos]\n",
    "\n",
    "    al_pos_train = al_pos_train[al_pos_train['Year'] >= start_year]\n",
    "    al_pos_test = al_pos_test[al_pos_test['Year'] >= start_year]\n",
    "    \n",
    "    X_train, y_train = al_pos_train.drop(columns=['Name', 'Year', 'Pos', 'Tm', 'Lg', 'SS']), al_pos_train['SS']\n",
    "    X_test, y_test = al_pos_test.drop(columns=['Name', 'Year', 'Pos', 'Tm', 'Lg', 'SS']), al_pos_test['SS']\n",
    "    \n",
    "    #model = LogisticRegression(random_state=0).fit(X_train, y_train)\n",
    "    #model = DecisionTreeClassifier(random_state=0).fit(X_train, y_train)\n",
    "    model = RandomForestClassifier(n_estimators=75, max_depth=1, random_state=0).fit(X_train, y_train)\n",
    "    outputs = model.predict_proba(X_test)\n",
    "    \n",
    "    if pos != 'OF':\n",
    "        max_prob_ind = np.argmax(outputs[:, 1])\n",
    "        guesses.append(al_pos_test.iloc[max_prob_ind]['Name'].replace('\\xa0',' '))\n",
    "        #print(max_prob_ind, al_pos_test.iloc[max_prob_ind]['Name'])\n",
    "    else:\n",
    "        max_three_indices = np.argsort(outputs[:, 1])[-3:]\n",
    "        for ind in max_three_indices:\n",
    "            guesses.append(al_pos_test.iloc[ind]['Name'].replace('\\xa0',' '))\n",
    "            #print(ind, al_pos_test.iloc[ind]['Name'])\n",
    "\n",
    "ss = pd.read_csv('/Users/rohankosalge/Desktop/Coding/MLB-projects/al_silver_sluggers.csv')\n",
    "ss.index = ss['Year']\n",
    "actual = ss.loc[test_year].values.tolist()[1:]\n",
    "\n",
    "print(actual)\n",
    "print(guesses)\n",
    "\n",
    "actual, guesses = [unidecode(i) for i in actual], [unidecode(i) for i in guesses]\n",
    "\n",
    "match = 0\n",
    "for guess in guesses:\n",
    "    if guess in actual:\n",
    "        match += 1\n",
    "print(str(round(match/8, 3)*100) + '% accuracy')"
   ]
  },
  {
   "cell_type": "code",
   "execution_count": 182,
   "id": "eb341681-4a6d-4432-a4de-c3381750bf3c",
   "metadata": {},
   "outputs": [
    {
     "name": "stdout",
     "output_type": "stream",
     "text": [
      "['Anthony Rizzo', 'Daniel Murphy', 'Nolan Arenado', 'Corey Seager', 'Charlie Blackmon', 'Yoenis Céspedes', 'Christian Yelich', 'Wilson Ramos']\n",
      "['Freddie Freeman', 'Daniel Murphy', 'Kris Bryant', 'Corey Seager', 'Adam Duvall', 'Matt Kemp', 'Charlie Blackmon', 'Buster Posey']\n",
      "37.5% accuracy\n"
     ]
    }
   ],
   "source": [
    "positions = ['1B', '2B', '3B', 'SS', 'OF', 'C']\n",
    "guesses = []\n",
    "\n",
    "for pos in positions:\n",
    "    nl_pos_train = nl_train[nl_train['Pos'] == pos]\n",
    "    nl_pos_test = nl_test[nl_test['Pos'] == pos]\n",
    "\n",
    "    nl_pos_train = nl_pos_train[nl_pos_train['Year'] >= start_year]\n",
    "    nl_pos_test = nl_pos_test[nl_pos_test['Year'] >= start_year]\n",
    "    \n",
    "    X_train, y_train = nl_pos_train.drop(columns=['Name', 'Year', 'Pos', 'Tm', 'Lg', 'SS']), nl_pos_train['SS']\n",
    "    X_test, y_test = nl_pos_test.drop(columns=['Name', 'Year', 'Pos', 'Tm', 'Lg', 'SS']), nl_pos_test['SS']\n",
    "    \n",
    "    #model = LogisticRegression(random_state=0).fit(X_train, y_train)\n",
    "    #model = DecisionTreeClassifier(random_state=0).fit(X_train, y_train)\n",
    "    model = RandomForestClassifier(n_estimators=75, max_depth=1, random_state=0).fit(X_train, y_train)\n",
    "    outputs = model.predict_proba(X_test)\n",
    "    \n",
    "    if pos != 'OF':\n",
    "        max_prob_ind = np.argmax(outputs[:, 1])\n",
    "        guesses.append(nl_pos_test.iloc[max_prob_ind]['Name'].replace('\\xa0',' '))\n",
    "        #print(max_prob_ind, al_pos_test.iloc[max_prob_ind]['Name'])\n",
    "    else:\n",
    "        max_three_indices = np.argsort(outputs[:, 1])[-3:]\n",
    "        for ind in max_three_indices:\n",
    "            guesses.append(nl_pos_test.iloc[ind]['Name'].replace('\\xa0',' '))\n",
    "            #print(ind, al_pos_test.iloc[ind]['Name'])\n",
    "\n",
    "ss = pd.read_csv('/Users/rohankosalge/Desktop/Coding/MLB-projects/nl_silver_sluggers.csv')\n",
    "ss.index = ss['Year']\n",
    "actual = ss.loc[test_year].values.tolist()[1:]\n",
    "\n",
    "print(actual)\n",
    "print(guesses)\n",
    "\n",
    "actual, guesses = [unidecode(i) for i in actual], [unidecode(i) for i in guesses]\n",
    "\n",
    "match = 0\n",
    "for guess in guesses:\n",
    "    if guess in actual:\n",
    "        match += 1\n",
    "print(str(round(match/8, 3)*100) + '% accuracy')"
   ]
  },
  {
   "cell_type": "code",
   "execution_count": null,
   "id": "7b75c597-1aa7-4a21-b2d8-ac5a10dad874",
   "metadata": {},
   "outputs": [],
   "source": []
  }
 ],
 "metadata": {
  "kernelspec": {
   "display_name": "Python 3 (ipykernel)",
   "language": "python",
   "name": "python3"
  },
  "language_info": {
   "codemirror_mode": {
    "name": "ipython",
    "version": 3
   },
   "file_extension": ".py",
   "mimetype": "text/x-python",
   "name": "python",
   "nbconvert_exporter": "python",
   "pygments_lexer": "ipython3",
   "version": "3.9.12"
  }
 },
 "nbformat": 4,
 "nbformat_minor": 5
}
