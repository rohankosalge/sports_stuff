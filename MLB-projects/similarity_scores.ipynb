{
 "cells": [
  {
   "cell_type": "markdown",
   "id": "14e47a66-7835-4e75-8c35-1f2e420798eb",
   "metadata": {},
   "source": [
    "### Compute Similarity Scores between MLB Players\n",
    "https://www.baseball-reference.com/about/similarity.shtml"
   ]
  },
  {
   "cell_type": "code",
   "execution_count": 2,
   "id": "0abdab37-4c1c-4402-95e0-23c0a178d6f2",
   "metadata": {},
   "outputs": [],
   "source": [
    "import warnings\n",
    "warnings.filterwarnings('ignore')"
   ]
  },
  {
   "cell_type": "code",
   "execution_count": 57,
   "id": "950a296c-98b8-4913-b839-94edfc7dcca3",
   "metadata": {},
   "outputs": [],
   "source": [
    "from pybaseball import playerid_lookup\n",
    "from bs4 import BeautifulSoup\n",
    "from urllib.request import urlopen\n",
    "import pandas as pd"
   ]
  },
  {
   "cell_type": "code",
   "execution_count": 20,
   "id": "3d79f747-9881-4f96-bc47-e27db2210156",
   "metadata": {},
   "outputs": [],
   "source": [
    "def get_player_id(full_name):\n",
    "    # Attempts to return the BBRef ID for a player name.\n",
    "    # If there are multiple IDs found, return the ID of the player who most recently played.\n",
    "    # If there is a tie-breaker, return the ID of the player who comes first in A-Z order.\n",
    "\n",
    "    names = full_name.split(' ')\n",
    "    first_name, last_name = names[0].lower(), ' '.join(names[1:]).lower()\n",
    "    lookup = playerid_lookup(last_name, first_name).sort_values('name_last', ascending=True).sort_values('mlb_played_last', ascending=False)\n",
    "    if lookup.shape[0] == 0: # No IDs found\n",
    "        return None\n",
    "    return lookup.iloc[0]['key_bbref']"
   ]
  },
  {
   "cell_type": "code",
   "execution_count": 27,
   "id": "bd6db727-a0a9-4e10-8608-dffda693a2d6",
   "metadata": {},
   "outputs": [],
   "source": [
    "def get_player_url(player_id):\n",
    "    # Generates BaseballReference.com URL based on player ID.\n",
    "\n",
    "    return 'https://www.baseball-reference.com/players/'+player_id[0]+'/'+player_id+'.shtml'"
   ]
  },
  {
   "cell_type": "code",
   "execution_count": 127,
   "id": "e4c35aba-0dec-40aa-bb8b-4bd5e99a4887",
   "metadata": {},
   "outputs": [],
   "source": [
    "def get_data(url):\n",
    "    # Attempts to return all tabular information from a webpage.\n",
    "    \n",
    "    soup = BeautifulSoup(urlopen(url), features='lxml')\n",
    "    #print(soup.prettify())\n",
    "    rows = soup.findAll('tr')[1:]\n",
    "    rows_head = [[th.getText() for th in rows[i].findAll('th')] for i in range(len(rows))]\n",
    "    rows_tails = [[td.getText() for td in rows[i].findAll('td')] for i in range(len(rows))]\n",
    "    rows_data = [rows_head[i] + rows_tails[i] for i in range(len(rows))]\n",
    "\n",
    "    return soup\n",
    "    return rows_data"
   ]
  },
  {
   "cell_type": "code",
   "execution_count": 69,
   "id": "354a21e6-efa7-454d-afff-4ad3b102dbe9",
   "metadata": {},
   "outputs": [],
   "source": [
    "def get_season_data_of_player(player_name, season):\n",
    "    # Attempts to return a single-row DataFrame representing the season stats of an MLB player.\n",
    "    # Returns None if unable to 1. Find an ID associated with the player or 2. Find url or data from url.\n",
    "\n",
    "    assert type(season) == int, 'Enter the season parameter as an integer.'\n",
    "\n",
    "    player_id = get_player_id(player_name)\n",
    "    player_url = get_player_url(player_id)\n",
    "    player_data = get_data(player_url)[6:]\n",
    "    player_data_df = pd.DataFrame(player_data, columns=['Year','Age','Tm','Lg','G','PA','AB','R','H','2B','3B','HR','RBI','SB','CS','BB','SO','BA','OBP','SLG','OPS','OPS+','TB','GDP','HBP','SH','SF','IBB','Pos','Awards'])\n",
    "    player_data_df = player_data_df[(player_data_df['Lg'] == 'AL') | (player_data_df['Lg'] == 'NL')]\n",
    "\n",
    "    return player_data_df[player_data_df['Year'] == str(season)]"
   ]
  },
  {
   "cell_type": "code",
   "execution_count": 78,
   "id": "419ceed4-8297-4409-ace3-065e8823d1f0",
   "metadata": {},
   "outputs": [],
   "source": [
    "player1 = 'Aaron Judge'\n",
    "player2 = 'Bobby Witt'\n",
    "season = 2024"
   ]
  },
  {
   "cell_type": "code",
   "execution_count": 79,
   "id": "8e8421c9-7871-4776-935c-3137e8d5bd51",
   "metadata": {},
   "outputs": [
    {
     "data": {
      "text/html": [
       "<div>\n",
       "<style scoped>\n",
       "    .dataframe tbody tr th:only-of-type {\n",
       "        vertical-align: middle;\n",
       "    }\n",
       "\n",
       "    .dataframe tbody tr th {\n",
       "        vertical-align: top;\n",
       "    }\n",
       "\n",
       "    .dataframe thead th {\n",
       "        text-align: right;\n",
       "    }\n",
       "</style>\n",
       "<table border=\"1\" class=\"dataframe\">\n",
       "  <thead>\n",
       "    <tr style=\"text-align: right;\">\n",
       "      <th></th>\n",
       "      <th>Year</th>\n",
       "      <th>Age</th>\n",
       "      <th>Tm</th>\n",
       "      <th>Lg</th>\n",
       "      <th>G</th>\n",
       "      <th>PA</th>\n",
       "      <th>AB</th>\n",
       "      <th>R</th>\n",
       "      <th>H</th>\n",
       "      <th>2B</th>\n",
       "      <th>...</th>\n",
       "      <th>OPS</th>\n",
       "      <th>OPS+</th>\n",
       "      <th>TB</th>\n",
       "      <th>GDP</th>\n",
       "      <th>HBP</th>\n",
       "      <th>SH</th>\n",
       "      <th>SF</th>\n",
       "      <th>IBB</th>\n",
       "      <th>Pos</th>\n",
       "      <th>Awards</th>\n",
       "    </tr>\n",
       "  </thead>\n",
       "  <tbody>\n",
       "    <tr>\n",
       "      <th>12</th>\n",
       "      <td>2024</td>\n",
       "      <td>32</td>\n",
       "      <td>NYY</td>\n",
       "      <td>AL</td>\n",
       "      <td>140</td>\n",
       "      <td>626</td>\n",
       "      <td>499</td>\n",
       "      <td>109</td>\n",
       "      <td>160</td>\n",
       "      <td>33</td>\n",
       "      <td>...</td>\n",
       "      <td>1.152</td>\n",
       "      <td>219</td>\n",
       "      <td>348</td>\n",
       "      <td>20</td>\n",
       "      <td>9</td>\n",
       "      <td>0</td>\n",
       "      <td>2</td>\n",
       "      <td>18</td>\n",
       "      <td>*8D/97</td>\n",
       "      <td>AS</td>\n",
       "    </tr>\n",
       "  </tbody>\n",
       "</table>\n",
       "<p>1 rows × 30 columns</p>\n",
       "</div>"
      ],
      "text/plain": [
       "    Year Age   Tm  Lg    G   PA   AB    R    H  2B  ...    OPS OPS+   TB GDP  \\\n",
       "12  2024  32  NYY  AL  140  626  499  109  160  33  ...  1.152  219  348  20   \n",
       "\n",
       "   HBP SH SF IBB     Pos Awards  \n",
       "12   9  0  2  18  *8D/97     AS  \n",
       "\n",
       "[1 rows x 30 columns]"
      ]
     },
     "execution_count": 79,
     "metadata": {},
     "output_type": "execute_result"
    }
   ],
   "source": [
    "get_season_data_of_player(player1, season)"
   ]
  },
  {
   "cell_type": "code",
   "execution_count": 80,
   "id": "be536592-2d47-41a7-98d0-b61e7bf52737",
   "metadata": {},
   "outputs": [
    {
     "data": {
      "text/html": [
       "<div>\n",
       "<style scoped>\n",
       "    .dataframe tbody tr th:only-of-type {\n",
       "        vertical-align: middle;\n",
       "    }\n",
       "\n",
       "    .dataframe tbody tr th {\n",
       "        vertical-align: top;\n",
       "    }\n",
       "\n",
       "    .dataframe thead th {\n",
       "        text-align: right;\n",
       "    }\n",
       "</style>\n",
       "<table border=\"1\" class=\"dataframe\">\n",
       "  <thead>\n",
       "    <tr style=\"text-align: right;\">\n",
       "      <th></th>\n",
       "      <th>Year</th>\n",
       "      <th>Age</th>\n",
       "      <th>Tm</th>\n",
       "      <th>Lg</th>\n",
       "      <th>G</th>\n",
       "      <th>PA</th>\n",
       "      <th>AB</th>\n",
       "      <th>R</th>\n",
       "      <th>H</th>\n",
       "      <th>2B</th>\n",
       "      <th>...</th>\n",
       "      <th>OPS</th>\n",
       "      <th>OPS+</th>\n",
       "      <th>TB</th>\n",
       "      <th>GDP</th>\n",
       "      <th>HBP</th>\n",
       "      <th>SH</th>\n",
       "      <th>SF</th>\n",
       "      <th>IBB</th>\n",
       "      <th>Pos</th>\n",
       "      <th>Awards</th>\n",
       "    </tr>\n",
       "  </thead>\n",
       "  <tbody>\n",
       "    <tr>\n",
       "      <th>4</th>\n",
       "      <td>2024</td>\n",
       "      <td>24</td>\n",
       "      <td>KCR</td>\n",
       "      <td>AL</td>\n",
       "      <td>143</td>\n",
       "      <td>629</td>\n",
       "      <td>568</td>\n",
       "      <td>118</td>\n",
       "      <td>191</td>\n",
       "      <td>40</td>\n",
       "      <td>...</td>\n",
       "      <td>.993</td>\n",
       "      <td>172</td>\n",
       "      <td>343</td>\n",
       "      <td>4</td>\n",
       "      <td>7</td>\n",
       "      <td>0</td>\n",
       "      <td>7</td>\n",
       "      <td>7</td>\n",
       "      <td>*6/D</td>\n",
       "      <td>AS</td>\n",
       "    </tr>\n",
       "  </tbody>\n",
       "</table>\n",
       "<p>1 rows × 30 columns</p>\n",
       "</div>"
      ],
      "text/plain": [
       "   Year Age   Tm  Lg    G   PA   AB    R    H  2B  ...   OPS OPS+   TB GDP  \\\n",
       "4  2024  24  KCR  AL  143  629  568  118  191  40  ...  .993  172  343   4   \n",
       "\n",
       "  HBP SH SF IBB   Pos Awards  \n",
       "4   7  0  7   7  *6/D     AS  \n",
       "\n",
       "[1 rows x 30 columns]"
      ]
     },
     "execution_count": 80,
     "metadata": {},
     "output_type": "execute_result"
    }
   ],
   "source": [
    "get_season_data_of_player(player2, season)"
   ]
  }
 ],
 "metadata": {
  "kernelspec": {
   "display_name": "Python 3 (ipykernel)",
   "language": "python",
   "name": "python3"
  },
  "language_info": {
   "codemirror_mode": {
    "name": "ipython",
    "version": 3
   },
   "file_extension": ".py",
   "mimetype": "text/x-python",
   "name": "python",
   "nbconvert_exporter": "python",
   "pygments_lexer": "ipython3",
   "version": "3.9.12"
  }
 },
 "nbformat": 4,
 "nbformat_minor": 5
}
